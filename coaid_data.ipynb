{
 "cells": [
  {
   "cell_type": "code",
   "execution_count": 1,
   "id": "01c2f844",
   "metadata": {},
   "outputs": [],
   "source": [
    "import pandas as pd\n",
    "import openpyxl\n",
    "import matplotlib.pyplot as plt\n",
    "from urllib.parse import urlparse\n",
    "from collections import Counter, defaultdict\n",
    "from sklearn.feature_extraction.text import CountVectorizer\n",
    "\n",
    "pd.options.mode.chained_assignment = None  # default='warn'"
   ]
  },
  {
   "cell_type": "markdown",
   "id": "0ee4682e",
   "metadata": {},
   "source": [
    "## Wczytanie zbioru COAID\n",
    "\n",
    "Dataset CoAID składa się ze dwóch zbiorów, w których kolejno znajdują się newsy skategoryzowane jako \"true\" oraz \"fake\". Dodatkowo każdy z tych zbiorów podzielony jest na 4 podzbiory, które różnią się datą ich zebrania. W sumie należy połączyć 8 podzbiorów w jeden wspólny zbiór, na którym przeprowadzona zostanie analiza oraz modelowanie."
   ]
  },
  {
   "cell_type": "code",
   "execution_count": 2,
   "id": "6066ebbd",
   "metadata": {},
   "outputs": [
    {
     "name": "stdout",
     "output_type": "stream",
     "text": [
      "---------------------\n",
      "Wiersze df_true: 4532\n",
      "Kolumny df_true: 11\n",
      "---------------- ----\n",
      "Wiersze df_fake: 925\n",
      "Kolumny df_fake: 16\n",
      "---------------- ----\n",
      "Razem wierszy:   5457\n",
      "---------------------\n"
     ]
    }
   ],
   "source": [
    "#Zbior\n",
    "df1_true = pd.read_csv('data/05-01-2020/NewsRealCOVID-19.csv')\n",
    "df2_true = pd.read_csv('data/07-01-2020/NewsRealCOVID-19.csv')\n",
    "df3_true = pd.read_csv('data/09-01-2020/NewsRealCOVID-19.csv')\n",
    "df4_true = pd.read_csv('data/11-01-2020/NewsRealCOVID-19.csv')\n",
    "\n",
    "df1_fake = pd.read_csv('data/05-01-2020/NewsFakeCOVID-19.csv')\n",
    "df2_fake = pd.read_csv('data/07-01-2020/NewsFakeCOVID-19.csv')\n",
    "df3_fake = pd.read_csv('data/09-01-2020/NewsFakeCOVID-19.csv')\n",
    "df4_fake = pd.read_csv('data/11-01-2020/NewsFakeCOVID-19.csv')\n",
    "\n",
    "df_true = pd.concat([df1_true, df2_true, df3_true, df4_true])\n",
    "df_true['label'] = 'true'\n",
    "\n",
    "df_fake = pd.concat([df1_fake, df2_fake, df3_fake, df4_fake])\n",
    "df_fake['label'] = 'fake'\n",
    "\n",
    "print(\"---------------------\")\n",
    "print(\"Wiersze df_true:\", df_true.shape[0])\n",
    "print(\"Kolumny df_true:\", df_true.shape[1])\n",
    "print(\"---------------- ----\")\n",
    "print(\"Wiersze df_fake:\", df_fake.shape[0])\n",
    "print(\"Kolumny df_fake:\", df_fake.shape[1])\n",
    "print(\"---------------- ----\")\n",
    "print(\"Razem wierszy:  \", df_true.shape[0]+df_fake.shape[0])\n",
    "print(\"---------------------\")"
   ]
  },
  {
   "cell_type": "markdown",
   "id": "486cc9e0",
   "metadata": {},
   "source": [
    "Pomimo różnic w liczbie kolumn w obu podzbiorach, można je bez problemu połączyć w jeden zbiór. W przypadku df_true dodatkowe kolumny wypełnią się pustymi wartościami - NaN."
   ]
  },
  {
   "cell_type": "code",
   "execution_count": 3,
   "id": "efd051e5",
   "metadata": {},
   "outputs": [
    {
     "data": {
      "text/html": [
       "<div>\n",
       "<style scoped>\n",
       "    .dataframe tbody tr th:only-of-type {\n",
       "        vertical-align: middle;\n",
       "    }\n",
       "\n",
       "    .dataframe tbody tr th {\n",
       "        vertical-align: top;\n",
       "    }\n",
       "\n",
       "    .dataframe thead th {\n",
       "        text-align: right;\n",
       "    }\n",
       "</style>\n",
       "<table border=\"1\" class=\"dataframe\">\n",
       "  <thead>\n",
       "    <tr style=\"text-align: right;\">\n",
       "      <th></th>\n",
       "      <th>Unnamed: 0</th>\n",
       "      <th>type</th>\n",
       "      <th>fact_check_url</th>\n",
       "      <th>news_url</th>\n",
       "      <th>title</th>\n",
       "      <th>newstitle</th>\n",
       "      <th>content</th>\n",
       "      <th>abstract</th>\n",
       "      <th>publish_date</th>\n",
       "      <th>meta_keywords</th>\n",
       "      <th>label</th>\n",
       "      <th>archieve</th>\n",
       "      <th>news_url2</th>\n",
       "      <th>news_url3</th>\n",
       "      <th>news_url4</th>\n",
       "      <th>news_url5</th>\n",
       "    </tr>\n",
       "  </thead>\n",
       "  <tbody>\n",
       "    <tr>\n",
       "      <th>346</th>\n",
       "      <td>3004</td>\n",
       "      <td>article</td>\n",
       "      <td>webmd.com</td>\n",
       "      <td>https://www.webmd.com/lung/news/20200826/ameri...</td>\n",
       "      <td>American Girl Honors Front-Line Heroes</td>\n",
       "      <td>\"Access denied | www.webmd.com used Cloudflare...</td>\n",
       "      <td>this website is using security service to prot...</td>\n",
       "      <td>NaN</td>\n",
       "      <td>NaN</td>\n",
       "      <td>\"\"</td>\n",
       "      <td>true</td>\n",
       "      <td>NaN</td>\n",
       "      <td>NaN</td>\n",
       "      <td>NaN</td>\n",
       "      <td>NaN</td>\n",
       "      <td>NaN</td>\n",
       "    </tr>\n",
       "    <tr>\n",
       "      <th>304</th>\n",
       "      <td>1859</td>\n",
       "      <td>article</td>\n",
       "      <td>medicalnewstoday.com</td>\n",
       "      <td>https://www.medicalnewstoday.com/articles/a-no...</td>\n",
       "      <td>'A no-win situation' — Expert weighs in on COV...</td>\n",
       "      <td>\"‘A no-win situation’ — Expert weighs in on CO...</td>\n",
       "      <td>the current pandemic is exposing and exacerbat...</td>\n",
       "      <td>those of us who work in the health disparities...</td>\n",
       "      <td>NaN</td>\n",
       "      <td>\"\"</td>\n",
       "      <td>true</td>\n",
       "      <td>NaN</td>\n",
       "      <td>NaN</td>\n",
       "      <td>NaN</td>\n",
       "      <td>NaN</td>\n",
       "      <td>NaN</td>\n",
       "    </tr>\n",
       "    <tr>\n",
       "      <th>1080</th>\n",
       "      <td>1080</td>\n",
       "      <td>article</td>\n",
       "      <td>webmd.com</td>\n",
       "      <td>https://www.webmd.com/lung/news/20200320/covid...</td>\n",
       "      <td>COVID-19 Daily: Topol Laments Betrayal, HCP Co...</td>\n",
       "      <td>\"COVID-19 Daily: Topol Laments Betrayal, HCP C...</td>\n",
       "      <td>here are the coronavirus stories medscape 's e...</td>\n",
       "      <td>these are the coronavirus stories you need to ...</td>\n",
       "      <td>NaN</td>\n",
       "      <td>\"infection control,infection in the immunocomp...</td>\n",
       "      <td>true</td>\n",
       "      <td>NaN</td>\n",
       "      <td>NaN</td>\n",
       "      <td>NaN</td>\n",
       "      <td>NaN</td>\n",
       "      <td>NaN</td>\n",
       "    </tr>\n",
       "    <tr>\n",
       "      <th>183</th>\n",
       "      <td>806</td>\n",
       "      <td>post</td>\n",
       "      <td>https://leadstories.com/hoax-alert/2020/05/pen...</td>\n",
       "      <td>https://www.facebook.com/photo.php?fbid=101581...</td>\n",
       "      <td>Pennsylvania’s governor breaking his own socia...</td>\n",
       "      <td>\"Diane Bianchi\"</td>\n",
       "      <td>see more of diane bianchi on facebook.</td>\n",
       "      <td>this is the governor that says we ca nt reopen...</td>\n",
       "      <td>NaN</td>\n",
       "      <td>\"\"</td>\n",
       "      <td>fake</td>\n",
       "      <td>https://web.archive.org/web/20200513152022/htt...</td>\n",
       "      <td>NaN</td>\n",
       "      <td>NaN</td>\n",
       "      <td>NaN</td>\n",
       "      <td>NaN</td>\n",
       "    </tr>\n",
       "    <tr>\n",
       "      <th>849</th>\n",
       "      <td>849</td>\n",
       "      <td>article</td>\n",
       "      <td>webmd.com</td>\n",
       "      <td>https://www.webmd.com/lung/news/20200327/cdc-s...</td>\n",
       "      <td>CDC: Separate Moms With Coronavirus From Newborns</td>\n",
       "      <td>\"CDC: Separate Moms With Coronavirus From Newb...</td>\n",
       "      <td>march 27 2020 -- the cdc has heartbreaking adv...</td>\n",
       "      <td>the recommendation also applies to new moms in...</td>\n",
       "      <td>NaN</td>\n",
       "      <td>\"coronavirus, covid-19, cdc, maternity ward, n...</td>\n",
       "      <td>true</td>\n",
       "      <td>NaN</td>\n",
       "      <td>NaN</td>\n",
       "      <td>NaN</td>\n",
       "      <td>NaN</td>\n",
       "      <td>NaN</td>\n",
       "    </tr>\n",
       "  </tbody>\n",
       "</table>\n",
       "</div>"
      ],
      "text/plain": [
       "      Unnamed: 0     type                                     fact_check_url  \\\n",
       "346         3004  article                                          webmd.com   \n",
       "304         1859  article                               medicalnewstoday.com   \n",
       "1080        1080  article                                          webmd.com   \n",
       "183          806     post  https://leadstories.com/hoax-alert/2020/05/pen...   \n",
       "849          849  article                                          webmd.com   \n",
       "\n",
       "                                               news_url  \\\n",
       "346   https://www.webmd.com/lung/news/20200826/ameri...   \n",
       "304   https://www.medicalnewstoday.com/articles/a-no...   \n",
       "1080  https://www.webmd.com/lung/news/20200320/covid...   \n",
       "183   https://www.facebook.com/photo.php?fbid=101581...   \n",
       "849   https://www.webmd.com/lung/news/20200327/cdc-s...   \n",
       "\n",
       "                                                  title  \\\n",
       "346              American Girl Honors Front-Line Heroes   \n",
       "304   'A no-win situation' — Expert weighs in on COV...   \n",
       "1080  COVID-19 Daily: Topol Laments Betrayal, HCP Co...   \n",
       "183   Pennsylvania’s governor breaking his own socia...   \n",
       "849   CDC: Separate Moms With Coronavirus From Newborns   \n",
       "\n",
       "                                              newstitle  \\\n",
       "346   \"Access denied | www.webmd.com used Cloudflare...   \n",
       "304   \"‘A no-win situation’ — Expert weighs in on CO...   \n",
       "1080  \"COVID-19 Daily: Topol Laments Betrayal, HCP C...   \n",
       "183                                     \"Diane Bianchi\"   \n",
       "849   \"CDC: Separate Moms With Coronavirus From Newb...   \n",
       "\n",
       "                                                content  \\\n",
       "346   this website is using security service to prot...   \n",
       "304   the current pandemic is exposing and exacerbat...   \n",
       "1080  here are the coronavirus stories medscape 's e...   \n",
       "183             see more of diane bianchi on facebook.    \n",
       "849   march 27 2020 -- the cdc has heartbreaking adv...   \n",
       "\n",
       "                                               abstract publish_date  \\\n",
       "346                                                 NaN          NaN   \n",
       "304   those of us who work in the health disparities...          NaN   \n",
       "1080  these are the coronavirus stories you need to ...          NaN   \n",
       "183   this is the governor that says we ca nt reopen...          NaN   \n",
       "849   the recommendation also applies to new moms in...          NaN   \n",
       "\n",
       "                                          meta_keywords label  \\\n",
       "346                                                  \"\"  true   \n",
       "304                                                  \"\"  true   \n",
       "1080  \"infection control,infection in the immunocomp...  true   \n",
       "183                                                  \"\"  fake   \n",
       "849   \"coronavirus, covid-19, cdc, maternity ward, n...  true   \n",
       "\n",
       "                                               archieve news_url2 news_url3  \\\n",
       "346                                                 NaN       NaN       NaN   \n",
       "304                                                 NaN       NaN       NaN   \n",
       "1080                                                NaN       NaN       NaN   \n",
       "183   https://web.archive.org/web/20200513152022/htt...       NaN       NaN   \n",
       "849                                                 NaN       NaN       NaN   \n",
       "\n",
       "     news_url4 news_url5  \n",
       "346        NaN       NaN  \n",
       "304        NaN       NaN  \n",
       "1080       NaN       NaN  \n",
       "183        NaN       NaN  \n",
       "849        NaN       NaN  "
      ]
     },
     "execution_count": 3,
     "metadata": {},
     "output_type": "execute_result"
    }
   ],
   "source": [
    "df_all = pd.concat([df_true, df_fake])\n",
    "df_all.sample(5)"
   ]
  },
  {
   "cell_type": "code",
   "execution_count": 4,
   "id": "a318e56e",
   "metadata": {},
   "outputs": [],
   "source": [
    "# Ograniczenie zbioru do 8 najważniejszych kolumn\n",
    "\n",
    "df_all = df_all[['label', 'type', 'fact_check_url', 'news_url', \n",
    "                 'title', 'newstitle', 'content', 'abstract']]"
   ]
  },
  {
   "cell_type": "markdown",
   "id": "f805076f",
   "metadata": {},
   "source": [
    "W zbiorze danych występuje wiele obserwacji, które nie przechowują żadnej wartości w kolumnie \"content\", która jest najbardziej istotna dla naszych badań. Należy je usunąć."
   ]
  },
  {
   "cell_type": "code",
   "execution_count": 5,
   "id": "53cf85fb",
   "metadata": {},
   "outputs": [
    {
     "name": "stdout",
     "output_type": "stream",
     "text": [
      "Liczba NaN w kolumnie 'content': 1017\n",
      "Liczba NaN w kolumnie 'content' po operacji: 0\n",
      "Liczba wierszy po operacji: 4440\n"
     ]
    }
   ],
   "source": [
    "nan = df_all['content'].isnull().sum(axis = 0)\n",
    "print(\"Liczba NaN w kolumnie 'content':\",(nan))\n",
    "df_all = df_all[df_all['content'].notna()]\n",
    "\n",
    "print(\"Liczba NaN w kolumnie 'content' po operacji:\",(df_all['content'].isnull().sum(axis = 0)))\n",
    "print(\"Liczba wierszy po operacji:\", len(df_all))"
   ]
  },
  {
   "cell_type": "markdown",
   "id": "141bdab4",
   "metadata": {},
   "source": [
    "Kolejnym problemem są występujące w zbiorze duplikaty. Zanim zostaną usunięte przyjrzyjmy się tym, które występują w zbiorze najczęściej."
   ]
  },
  {
   "cell_type": "code",
   "execution_count": 6,
   "id": "df5a28cd",
   "metadata": {
    "scrolled": true
   },
   "outputs": [
    {
     "data": {
      "text/html": [
       "<div>\n",
       "<style scoped>\n",
       "    .dataframe tbody tr th:only-of-type {\n",
       "        vertical-align: middle;\n",
       "    }\n",
       "\n",
       "    .dataframe tbody tr th {\n",
       "        vertical-align: top;\n",
       "    }\n",
       "\n",
       "    .dataframe thead th {\n",
       "        text-align: right;\n",
       "    }\n",
       "</style>\n",
       "<table border=\"1\" class=\"dataframe\">\n",
       "  <thead>\n",
       "    <tr style=\"text-align: right;\">\n",
       "      <th></th>\n",
       "      <th>content</th>\n",
       "    </tr>\n",
       "    <tr>\n",
       "      <th>text</th>\n",
       "      <th></th>\n",
       "    </tr>\n",
       "  </thead>\n",
       "  <tbody>\n",
       "    <tr>\n",
       "      <th>this website is using a security service to protect itself from online attacks ..</th>\n",
       "      <td>352</td>\n",
       "    </tr>\n",
       "    <tr>\n",
       "      <th>centers for disease control and prevention. cdc twenty four seven. saving lives protecting people centers for disease control and prevention. cdc twenty four seven. saving lives protecting people.</th>\n",
       "      <td>79</td>\n",
       "    </tr>\n",
       "    <tr>\n",
       "      <th>centers for disease control and prevention. cdc twenty four seven. saving lives protecting people.</th>\n",
       "      <td>10</td>\n",
       "    </tr>\n",
       "    <tr>\n",
       "      <th>content describing non cdc tools on this site is provided for informational purposes only and is not intended to indicate endorsement actual or implied of the tools. additionally information on this site is provided as is for users to evaluate and make their own determination as to their effectiveness.</th>\n",
       "      <td>9</td>\n",
       "    </tr>\n",
       "    <tr>\n",
       "      <th>we 've detected that javascript is disabled in your browser. would you like to proceed to legacy twitter.</th>\n",
       "      <td>8</td>\n",
       "    </tr>\n",
       "    <tr>\n",
       "      <th>i think or know i had covid-19 and i had symptoms. when can i be with others.</th>\n",
       "      <td>4</td>\n",
       "    </tr>\n",
       "    <tr>\n",
       "      <th>experts warn most states that are reopening still are nt doing enough testing as more u.s. states start to loosen stay at home orders experts warn that covid-19 could come back if there s not enough testing. according to the associated press a significant number of states that are reopening are still not meeting key testing benchmarks suggested by harvards global health institute. according to the institute and the world health organization who there should be enough testing done that the.</th>\n",
       "      <td>4</td>\n",
       "    </tr>\n",
       "    <tr>\n",
       "      <th>coronavirus disease 2019 covid-19 is a respiratory illness caused by a virus called sars cov-2. symptoms often include cough shortness of breath fever chills muscle pain sore throat or new loss of taste or smell. our understanding of how the virus spreads is evolving as we learn more about it so check the cdc website for the latest information. the virus is thought to spread mainly from person to person between people who are in close contact with one another within about 6 feet.</th>\n",
       "      <td>3</td>\n",
       "    </tr>\n",
       "    <tr>\n",
       "      <th>experts say biology as well as behavior may be among the reasons more men than women are developing covid-19 and dying from the disease. getty images several studies have shown that more men are dying from covid-19 than women. experts say part of the reason is women tend to have stronger immune systems than men. they add that men also tend to engage in more risky behavior such as ignoring physical distancing and they do nt take symptoms as seriously. all data and statistics are based on p.</th>\n",
       "      <td>3</td>\n",
       "    </tr>\n",
       "    <tr>\n",
       "      <th>coronavirus disease 2019 covid-19 is a respiratory illness caused by a virus called sars cov-2. symptoms often include a fever cough or shortness of breath. our understanding of how the virus spreads is evolving as we learn more about it so check the cdc website for the latest information. the virus is thought to spread mainly from person to person between people who are in close contact with one another within about 6 feet. through respiratory droplets produced when an infected perso.</th>\n",
       "      <td>3</td>\n",
       "    </tr>\n",
       "    <tr>\n",
       "      <th>experts say rural areas have older populations that are less healthy and have fewer medical facilities than urban and suburban regions. jeremy hogan echoes wire barcroft media via getty images the covid-19 pandemic has already swept through cities and urban centers. now the illness appears to be building like an infectious prairie fire in rural america as well as in larger towns in the midwest. that was nt the case just a month ago. many rural communities are nt seeing anything. they re sim.</th>\n",
       "      <td>3</td>\n",
       "    </tr>\n",
       "    <tr>\n",
       "      <th>scientists around the world are working on a number of vaccines and treatments for covid-19. xinhua zhang yuwei via getty images scientists around the world are working on potential treatments and vaccines for the new coronavirus disease known as covid-19. several companies are working on antiviral drugs some of which are already in use against other illnesses to treat people who already have covid-19. other companies are working on vaccines that could be used as a preventive measure aga.</th>\n",
       "      <td>3</td>\n",
       "    </tr>\n",
       "    <tr>\n",
       "      <th>the cdc recommend that all people wear cloth face masks in public places where it is difficult to maintain a 6-foot distance from others. this will help slow the spread of the virus from asymptomatic people or people who do not know they have contracted the virus. cloth face masks should be worn while continuing to practice social distancing. instructions for making masks at home can be found here. note it is critical that surgical masks and n95 respirators are reserved for healthcare workers.</th>\n",
       "      <td>3</td>\n",
       "    </tr>\n",
       "    <tr>\n",
       "      <th>in order to get and keep america open states tribes localities and territories must be able to quickly identify new cases break chains of transmission and protect first responders and health care workers from infection. this page provides states tribes localities and territories with key resources on covid-19 infection prevention and control laboratory capacity community mitigation surveillance and data analytics contact tracing and staffing.</th>\n",
       "      <td>3</td>\n",
       "    </tr>\n",
       "  </tbody>\n",
       "</table>\n",
       "</div>"
      ],
      "text/plain": [
       "                                                    content\n",
       "text                                                       \n",
       "this website is using a security service to pro...      352\n",
       "centers for disease control and prevention. cdc...       79\n",
       "centers for disease control and prevention. cdc...       10\n",
       "content describing non cdc tools on this site i...        9\n",
       "we 've detected that javascript is disabled in ...        8\n",
       "i think or know i had covid-19 and i had sympto...        4\n",
       "experts warn most states that are reopening sti...        4\n",
       "coronavirus disease 2019 covid-19 is a respirat...        3\n",
       "experts say biology as well as behavior may be ...        3\n",
       "coronavirus disease 2019 covid-19 is a respirat...        3\n",
       "experts say rural areas have older populations ...        3\n",
       "scientists around the world are working on a nu...        3\n",
       "the cdc recommend that all people wear cloth fa...        3\n",
       "in order to get and keep america open states tr...        3"
      ]
     },
     "execution_count": 6,
     "metadata": {},
     "output_type": "execute_result"
    }
   ],
   "source": [
    "# 15 najczęstszych duplikatów dla true\n",
    "pd.DataFrame(df_true['content'].value_counts()[1:15]).rename_axis('text')"
   ]
  },
  {
   "cell_type": "code",
   "execution_count": 7,
   "id": "d22be5a3",
   "metadata": {
    "scrolled": true
   },
   "outputs": [
    {
     "data": {
      "text/html": [
       "<div>\n",
       "<style scoped>\n",
       "    .dataframe tbody tr th:only-of-type {\n",
       "        vertical-align: middle;\n",
       "    }\n",
       "\n",
       "    .dataframe tbody tr th {\n",
       "        vertical-align: top;\n",
       "    }\n",
       "\n",
       "    .dataframe thead th {\n",
       "        text-align: right;\n",
       "    }\n",
       "</style>\n",
       "<table border=\"1\" class=\"dataframe\">\n",
       "  <thead>\n",
       "    <tr style=\"text-align: right;\">\n",
       "      <th></th>\n",
       "      <th>content</th>\n",
       "    </tr>\n",
       "    <tr>\n",
       "      <th>text</th>\n",
       "      <th></th>\n",
       "    </tr>\n",
       "  </thead>\n",
       "  <tbody>\n",
       "    <tr>\n",
       "      <th>you must log in to continue ..</th>\n",
       "      <td>20</td>\n",
       "    </tr>\n",
       "    <tr>\n",
       "      <th>we 've detected that javascript is disabled in your browser. would you like to proceed to legacy twitter.</th>\n",
       "      <td>19</td>\n",
       "    </tr>\n",
       "    <tr>\n",
       "      <th>join this group to post and comment ..</th>\n",
       "      <td>5</td>\n",
       "    </tr>\n",
       "    <tr>\n",
       "      <th>it may be time to show us what your scalp and edges really look like ladies. word on the street is that hair weave and lace fronts manufactured in china may contain the coronavirus. the centers for disease control and prevention cdc is closely monitoring an outbreak of respiratory illness caused by a novel new coronavirus first identified in wuhan hubei province china. chinese authorities identified the new coronavirus which has resulted in thousands of confirmed cases in china includi.</th>\n",
       "      <td>4</td>\n",
       "    </tr>\n",
       "    <tr>\n",
       "      <th>the controversial ethiopian politician and director general of the world health organization who claimed in a press conference in early march that the fatality rate for the coronavirus was many multiples that of the fatality rate of the common flu. this egregiously false premise has led to the greatest panic in world history. the director general of the who spoke on march 3 2020 and shared this related to the coronavirus while many people globally have built up immunity to seasonal flu.</th>\n",
       "      <td>3</td>\n",
       "    </tr>\n",
       "    <tr>\n",
       "      <th>elisa granato the first volunteer who availed herself in oxford for a jab in the first europe human trial of a vaccine to protect against the coronavirus pandemic has died. she died two days after the vaccine was administered authorities have said and added that an investigation into the cause of the death has been initiated. a statement by the researchers said elisa had complications few hours after taking the vaccine and died while on admission. elisa granato who is a scientist was one.</th>\n",
       "      <td>3</td>\n",
       "    </tr>\n",
       "    <tr>\n",
       "      <th>see more of randall thompson on facebook.</th>\n",
       "      <td>3</td>\n",
       "    </tr>\n",
       "    <tr>\n",
       "      <th>omns january 26 2020 the coronavirus pandemic can be dramatically slowed or stopped with the immediate widespread use of high doses of vitamin c. physicians have demonstrated the powerful antiviral action of vitamin c for decades. there has been a lack of media coverage of this effective and successful approach against viruses in general and coronavirus in particular. it is very important to maximize the bodys anti oxidative capacity and natural immunity to prevent and minimize symptoms.</th>\n",
       "      <td>3</td>\n",
       "    </tr>\n",
       "    <tr>\n",
       "      <th>update 1040et science moves fast during an outbreak like this and dr. feigl ding has issued a few tweets clarifying and correcting some of the information cited in the threads we included below. though beforehand he acknowledged that the paper conclusions are bat shit wild and need to be scrutinized by the scientific community immediately. the situation is fluid. who knows what researchers will discover next. over the past few days the mainstream press has vigorously pushed back agai.</th>\n",
       "      <td>2</td>\n",
       "    </tr>\n",
       "    <tr>\n",
       "      <th>microsoft co founder and philanthropist bill gates recently admitted his vaccine for coronavirus covid-19 is less effective in the elderly and will most likely result in the death or maiming of 700,000 people. the efficacy of vaccines in older people is always a huge challenge. it turns out the flu vaccine is nt that effective in elderly people. most of the benefit comes from younger people not spreading it because they re vaccinated and that benefits on a community basis the elderly.</th>\n",
       "      <td>2</td>\n",
       "    </tr>\n",
       "    <tr>\n",
       "      <th>earlier this week i reported on the cover up by the chinese government of outbreak of the coronavirus. now this. bill holter of jsmineset is reporting a friend of his states a chinese friend and resident of wuhan told him they have 10,000 dead. city falling apart. and while these reports are unconfirmed we know the most reliable sources are from people on the ground. the least reliable are state or government sources. the coronavirus in china is spreading and largely could have been prevent.</th>\n",
       "      <td>2</td>\n",
       "    </tr>\n",
       "    <tr>\n",
       "      <th>an appropriate representation of the requested resource could not be found on this server. this error was generated by mod_security.</th>\n",
       "      <td>2</td>\n",
       "    </tr>\n",
       "    <tr>\n",
       "      <th>how did he know this. because of research done by the national institutes of health of which he is the director. in connection with the sars outbreak caused by a coronavirus dubbed sars- cov the nih researched chloroquine and concluded that it was effective at stopping the sars coronavirus in its tracks. the covid-19 bug is likewise a coronavirus labeled sars cov-2. while not exactly the same virus as sars cov-1 it is genetically related to it and shares 79 of its genome as the name sa.</th>\n",
       "      <td>2</td>\n",
       "    </tr>\n",
       "    <tr>\n",
       "      <th>why do they always have to use symbols. it seems like such risk to their plans.</th>\n",
       "      <td>2</td>\n",
       "    </tr>\n",
       "  </tbody>\n",
       "</table>\n",
       "</div>"
      ],
      "text/plain": [
       "                                                    content\n",
       "text                                                       \n",
       "you must log in to continue ..                           20\n",
       "we 've detected that javascript is disabled in ...       19\n",
       "join this group to post and comment ..                    5\n",
       "it may be time to show us what your scalp and e...        4\n",
       "the controversial ethiopian politician and dire...        3\n",
       "elisa granato the first volunteer who availed h...        3\n",
       "see more of randall thompson on facebook.                 3\n",
       "omns january 26 2020 the coronavirus pandemic c...        3\n",
       "update 1040et science moves fast during an outb...        2\n",
       "microsoft co founder and philanthropist bill ga...        2\n",
       "earlier this week i reported on the cover up by...        2\n",
       "an appropriate representation of the requested ...        2\n",
       "how did he know this. because of research done ...        2\n",
       "why do they always have to use symbols. it seem...        2"
      ]
     },
     "execution_count": 7,
     "metadata": {},
     "output_type": "execute_result"
    }
   ],
   "source": [
    "# 15 najczęstszych duplikatów dla fake\n",
    "pd.DataFrame(df_fake['content'].value_counts()[1:15]).rename_axis('text')"
   ]
  },
  {
   "cell_type": "markdown",
   "id": "535cb2eb",
   "metadata": {},
   "source": [
    "Widzimy, że w wielu obserwacjach zbioru CoAID scrapping tekstu z artykułów się nie powiódł. Przyczynami takiego stanu rzeczy mogły być zabezpieczenia na stronie, wymóg zalogowania się lub też usunięty artykuł. Zdarzyły się też newsy, których treść powieliła się. Pozostaje nam usunięcie duplikatów, aby nie zaburzać obiektywności uczonych później modeli."
   ]
  },
  {
   "cell_type": "code",
   "execution_count": 8,
   "id": "c897a6db",
   "metadata": {},
   "outputs": [
    {
     "name": "stdout",
     "output_type": "stream",
     "text": [
      "Liczba duplikatów: 1457\n",
      "Liczba duplikatów po operacji: 0\n",
      "Liczba wierszy po operacji: 3075\n"
     ]
    }
   ],
   "source": [
    "unique = df_all['content'].nunique()\n",
    "print(\"Liczba duplikatów:\",(len(df_true) - unique))\n",
    "\n",
    "# usunięcie duplikatów (kolumna 'content')\n",
    "df_all = df_all.drop_duplicates(subset='content', keep=\"last\")\n",
    "\n",
    "#liczba duplikatów\n",
    "print(\"Liczba duplikatów po operacji:\",(len(df_all['content']) - df_all['content'].nunique()))\n",
    "print(\"Liczba wierszy po operacji:\", len(df_all))"
   ]
  },
  {
   "cell_type": "markdown",
   "id": "c4938095",
   "metadata": {},
   "source": [
    "Pomimo usunięcia duplikatów, wciąż pozostały pojedyncze obserwacje zawierające teksty, które nie dotyczą artykułów. Widać między innymi kilka obserwacji, które podczas scrapingu pobrały frazę \"see more of ... on facebook\". W następnym kroku należy usunąć te i inne obserwacje zawierające zbędne teksty. "
   ]
  },
  {
   "cell_type": "code",
   "execution_count": 9,
   "id": "f04c7d7a",
   "metadata": {},
   "outputs": [
    {
     "name": "stdout",
     "output_type": "stream",
     "text": [
      "Liczba true po operacji: 2737\n",
      "Liczba false po operacji: 200\n",
      "Liczba wszystkich wierszy po operacji: 2937\n"
     ]
    },
    {
     "data": {
      "image/png": "[encoded data removed]",
      "text/plain": [
       "<Figure size 432x288 with 1 Axes>"
      ]
     },
     "metadata": {
      "needs_background": "light"
     },
     "output_type": "display_data"
    }
   ],
   "source": [
    "df_all = df_all[~df_all.content.str.contains(\"do you want to join facebook\")]\n",
    "df_all = df_all[~df_all.content.str.contains(\"see more of\")]\n",
    "df_all = df_all[~df_all.content.str.contains(\"this is not the page you 're looking for\")]\n",
    "df_all = df_all[~df_all.content.str.contains(\"you must log in to continue\")]\n",
    "df_all = df_all[~df_all.content.str.contains(\"please wait few minutes before you try again\")]\n",
    "df_all = df_all[~df_all.content.str.contains(\"this browser is no longer supported\")]\n",
    "df_all = df_all[~df_all.content.str.contains(\"detected that javascript is disabled in your browser\")]\n",
    "\n",
    "print(\"Liczba true po operacji:\", len(df_all[(df_all['label']=='true')]))\n",
    "print(\"Liczba false po operacji:\", len(df_all[(df_all['label']=='fake')]))\n",
    "print(\"Liczba wszystkich wierszy po operacji:\", len(df_all))\n",
    "\n",
    "df_all['label'].value_counts(normalize=False).plot(kind='bar');"
   ]
  },
  {
   "cell_type": "markdown",
   "id": "402214b7",
   "metadata": {},
   "source": [
    "### Analiza źródeł danych\n",
    "\n",
    "Kolumna 'news_url' przechowuje linki do artykułów, z których można wyciągnąć same nazwy domen. W ten sposób możemy policzyć liczbę artykułów od danej organizacji lub wydawcy. Warto sprawdzić to dla obu etykiet."
   ]
  },
  {
   "cell_type": "code",
   "execution_count": 10,
   "id": "a9de04ff",
   "metadata": {},
   "outputs": [
    {
     "data": {
      "text/plain": [
       "webmd.com                  627\n",
       "healthline.com             561\n",
       "medicalnewstoday.com       456\n",
       "who.int                    158\n",
       "nih.gov                     74\n",
       "transcripts.cnn.com          3\n",
       "facebook.com                 3\n",
       "abcnews.go.com               2\n",
       "wral.com                     2\n",
       "medium.com                   2\n",
       "newsradiowrva.radio.com      1\n",
       "jsonline.com                 1\n",
       "covid.cdc.gov                1\n",
       "pets.webmd.com               1\n",
       "Name: publisher_site, dtype: int64"
      ]
     },
     "execution_count": 10,
     "metadata": {},
     "output_type": "execute_result"
    }
   ],
   "source": [
    "#True\n",
    "df_all['publisher_site'] = df_all['news_url'].apply(lambda x: urlparse(x).netloc).apply(lambda x: x.removeprefix('www.'))\n",
    "df_all['publisher_site'][df_all.label == 'true'].value_counts()[1:15]"
   ]
  },
  {
   "cell_type": "code",
   "execution_count": 11,
   "id": "bdb92656",
   "metadata": {},
   "outputs": [
    {
     "data": {
      "text/plain": [
       "whitehouse.gov              7\n",
       "naturalnews.com             4\n",
       "rev.com                     4\n",
       "factba.se                   3\n",
       "cnbc.com                    3\n",
       "mcmnt.com                   3\n",
       "transcripts.cnn.com         2\n",
       "cbsnews.com                 2\n",
       "worldnewsdailyreport.com    2\n",
       "globalresearch.ca           2\n",
       "intellihub.com              2\n",
       "ucrtv.com                   2\n",
       "viralcocaine.com            2\n",
       "thegatewaypundit.com        2\n",
       "Name: publisher_site, dtype: int64"
      ]
     },
     "execution_count": 11,
     "metadata": {},
     "output_type": "execute_result"
    }
   ],
   "source": [
    "#Fake\n",
    "df_all['publisher_site'] = df_all['news_url'].apply(lambda x: urlparse(x).netloc).apply(lambda x: x.removeprefix('www.'))\n",
    "df_all['publisher_site'][df_all.label == 'fake'].value_counts()[1:15]"
   ]
  },
  {
   "cell_type": "markdown",
   "id": "742014b9",
   "metadata": {},
   "source": [
    "Ciekawą rzeczą jest pojawienie się w zbiorze 7 newsów oznaczonych etykietą \"fake\", które pochodzą z domeny whitehouse.gov. Można to zbadać."
   ]
  },
  {
   "cell_type": "code",
   "execution_count": 12,
   "id": "13c55a3f",
   "metadata": {},
   "outputs": [
    {
     "name": "stdout",
     "output_type": "stream",
     "text": [
      "---------------------\n",
      "Wszystkich tokenów:  15549\n",
      "---------------------\n",
      "Najczęściej występujące tokeny i liczba ich powtórzeń:\n"
     ]
    },
    {
     "data": {
      "text/plain": [
       "[('the', 8234),\n",
       " ('and', 6725),\n",
       " ('of', 6618),\n",
       " ('to', 6011),\n",
       " ('in', 3878),\n",
       " ('', 2937),\n",
       " ('a', 2811),\n",
       " ('covid-19', 2782),\n",
       " ('for', 2735),\n",
       " ('are', 2431),\n",
       " ('is', 2399),\n",
       " ('on', 2390),\n",
       " ('that', 2230),\n",
       " ('with', 2040),\n",
       " ('at', 1488),\n",
       " ('as', 1471),\n",
       " ('be', 1421),\n",
       " ('have', 1299),\n",
       " ('coronavirus', 1278),\n",
       " ('people', 1170)]"
      ]
     },
     "execution_count": 12,
     "metadata": {},
     "output_type": "execute_result"
    }
   ],
   "source": [
    "# Pokażmy 20 najczęściej występujących Tokenów oraz liczbę ich wystąpień w Korpusie\n",
    "\n",
    "tokens_set = set()\n",
    "df_all['content'].str.split(\" \").map(tokens_set.update)\n",
    "\n",
    "cntr = Counter()\n",
    "df_all[\"content\"].str.split(\" \").map(cntr.update)\n",
    "\n",
    "print(\"---------------------\")\n",
    "print(\"Wszystkich tokenów: \", len(tokens_set))\n",
    "print(\"---------------------\")\n",
    "print(\"Najczęściej występujące tokeny i liczba ich powtórzeń:\")\n",
    "\n",
    "cntr.most_common(n=20)"
   ]
  },
  {
   "cell_type": "code",
   "execution_count": 13,
   "id": "bf809f33",
   "metadata": {},
   "outputs": [],
   "source": [
    "# Możemy zliczyć sumę wystąpień poszczególnych Tokenów w każdym Dokumencie i zapisać to w dodatkowej kolumnie. \n",
    "# Dzięki temu powstał uproszczony Bag of Words dla każdego dokumentu.\n",
    "df_all['text_norm'] = df_all['content'].str.lower()\n",
    "df_all[\"text_norm_counter\"] = df_all[\"text_norm\"].str.split(\" \").map(lambda x: dict(Counter(x)) )\n",
    "df_all[\"counter_tokens\"] = df_all[\"text_norm_counter\"].map(lambda x: sum(x.values()) )"
   ]
  },
  {
   "cell_type": "code",
   "execution_count": 14,
   "id": "6ecc94c6",
   "metadata": {},
   "outputs": [],
   "source": [
    "# Zapisanie nowego zbioru danych do formatów: .csv oraz .xlsx\n",
    "\n",
    "df_all.to_csv('../coaid_dataset.csv', encoding='utf-8', index=False)\n",
    "df_all.to_excel('../coaid_dataset.xlsx')"
   ]
  },
  {
   "cell_type": "markdown",
   "id": "337d09d0",
   "metadata": {},
   "source": [
    "## Claims - stwierdzenia i tezy na temat COVID-19\n",
    "\n",
    "Oprócz samych newsów, zbiór COAID zawiera tabele \"claims\", które najczęściej przybierają postać jednozdaniowych stwierdzeń. Stwierdzenia te zawierają powszechne fakty i mity na temat koronawirusa, dzięki czemu dostarczą zbiorom uczącym wartościowych informacji. Efektem tego zabiegu powinna być lepsza jakość trenowanych modeli."
   ]
  },
  {
   "cell_type": "code",
   "execution_count": 15,
   "id": "5f3e3efa",
   "metadata": {},
   "outputs": [
    {
     "name": "stdout",
     "output_type": "stream",
     "text": [
      "---------------------\n",
      "Wiersze df_true: 490\n",
      "Kolumny df_true: 5\n",
      "---------------- ----\n",
      "Wiersze df_fake: 28\n",
      "Kolumny df_fake: 5\n",
      "---------------- ----\n",
      "Razem wierszy:   518\n",
      "---------------------\n"
     ]
    }
   ],
   "source": [
    "# Wczytanie zbioru\n",
    "df1_true = pd.read_csv('data/05-01-2020/ClaimRealCOVID-19.csv')\n",
    "df2_true = pd.read_csv('data/07-01-2020/ClaimRealCOVID-19.csv')\n",
    "df3_true = pd.read_csv('data/09-01-2020/ClaimRealCOVID-19.csv')\n",
    "df4_true = pd.read_csv('data/11-01-2020/ClaimRealCOVID-19.csv')\n",
    "\n",
    "df1_fake = pd.read_csv('data/05-01-2020/ClaimFakeCOVID-19.csv')\n",
    "df2_fake = pd.read_csv('data/07-01-2020/ClaimFakeCOVID-19.csv')\n",
    "\n",
    "\n",
    "df_true = pd.concat([df1_true, df2_true, df3_true, df4_true])\n",
    "df_true['label'] = 'true'\n",
    "\n",
    "df_fake = pd.concat([df1_fake, df2_fake])\n",
    "df_fake['label'] = 'fake'\n",
    "\n",
    "print(\"---------------------\")\n",
    "print(\"Wiersze df_true:\", df_true.shape[0])\n",
    "print(\"Kolumny df_true:\", df_true.shape[1])\n",
    "print(\"---------------- ----\")\n",
    "print(\"Wiersze df_fake:\", df_fake.shape[0])\n",
    "print(\"Kolumny df_fake:\", df_fake.shape[1])\n",
    "print(\"---------------- ----\")\n",
    "print(\"Razem wierszy:  \", df_true.shape[0]+df_fake.shape[0])\n",
    "print(\"---------------------\")"
   ]
  },
  {
   "cell_type": "code",
   "execution_count": 16,
   "id": "57f01a26",
   "metadata": {
    "scrolled": true
   },
   "outputs": [
    {
     "data": {
      "text/html": [
       "<div>\n",
       "<style scoped>\n",
       "    .dataframe tbody tr th:only-of-type {\n",
       "        vertical-align: middle;\n",
       "    }\n",
       "\n",
       "    .dataframe tbody tr th {\n",
       "        vertical-align: top;\n",
       "    }\n",
       "\n",
       "    .dataframe thead th {\n",
       "        text-align: right;\n",
       "    }\n",
       "</style>\n",
       "<table border=\"1\" class=\"dataframe\">\n",
       "  <thead>\n",
       "    <tr style=\"text-align: right;\">\n",
       "      <th></th>\n",
       "      <th>Unnamed: 0</th>\n",
       "      <th>fact_check_url</th>\n",
       "      <th>news_url</th>\n",
       "      <th>title</th>\n",
       "      <th>label</th>\n",
       "    </tr>\n",
       "  </thead>\n",
       "  <tbody>\n",
       "    <tr>\n",
       "      <th>33</th>\n",
       "      <td>100033</td>\n",
       "      <td>who.int</td>\n",
       "      <td>https://www.who.int/news-room/q-a-detail/q-a-c...</td>\n",
       "      <td>\"Is there anything I should not do?\"</td>\n",
       "      <td>true</td>\n",
       "    </tr>\n",
       "    <tr>\n",
       "      <th>30</th>\n",
       "      <td>100196</td>\n",
       "      <td>who.int</td>\n",
       "      <td>https://www.who.int/emergencies/diseases/novel...</td>\n",
       "      <td>What is an immunity passport or a risk-free ce...</td>\n",
       "      <td>true</td>\n",
       "    </tr>\n",
       "    <tr>\n",
       "      <th>165</th>\n",
       "      <td>100165</td>\n",
       "      <td>who.int</td>\n",
       "      <td>https://www.who.int/emergencies/diseases/novel...</td>\n",
       "      <td>\"Are there any specific medicines to prevent o...</td>\n",
       "      <td>true</td>\n",
       "    </tr>\n",
       "    <tr>\n",
       "      <th>33</th>\n",
       "      <td>100371</td>\n",
       "      <td>who.int</td>\n",
       "      <td>https://www.who.int/emergencies/diseases/novel...</td>\n",
       "      <td>Can adding pepper to your soup or other meals ...</td>\n",
       "      <td>true</td>\n",
       "    </tr>\n",
       "    <tr>\n",
       "      <th>153</th>\n",
       "      <td>100153</td>\n",
       "      <td>who.int</td>\n",
       "      <td>https://www.who.int/emergencies/diseases/novel...</td>\n",
       "      <td>\"COVID-19 virus can be transmitted in areas wi...</td>\n",
       "      <td>true</td>\n",
       "    </tr>\n",
       "  </tbody>\n",
       "</table>\n",
       "</div>"
      ],
      "text/plain": [
       "     Unnamed: 0 fact_check_url  \\\n",
       "33       100033        who.int   \n",
       "30       100196        who.int   \n",
       "165      100165        who.int   \n",
       "33       100371        who.int   \n",
       "153      100153        who.int   \n",
       "\n",
       "                                              news_url  \\\n",
       "33   https://www.who.int/news-room/q-a-detail/q-a-c...   \n",
       "30   https://www.who.int/emergencies/diseases/novel...   \n",
       "165  https://www.who.int/emergencies/diseases/novel...   \n",
       "33   https://www.who.int/emergencies/diseases/novel...   \n",
       "153  https://www.who.int/emergencies/diseases/novel...   \n",
       "\n",
       "                                                 title label  \n",
       "33                \"Is there anything I should not do?\"  true  \n",
       "30   What is an immunity passport or a risk-free ce...  true  \n",
       "165  \"Are there any specific medicines to prevent o...  true  \n",
       "33   Can adding pepper to your soup or other meals ...  true  \n",
       "153  \"COVID-19 virus can be transmitted in areas wi...  true  "
      ]
     },
     "execution_count": 16,
     "metadata": {},
     "output_type": "execute_result"
    }
   ],
   "source": [
    "df_claims = pd.concat([df_true, df_fake])\n",
    "df_claims.sample(5)"
   ]
  },
  {
   "cell_type": "code",
   "execution_count": 17,
   "id": "cd776b2e",
   "metadata": {
    "scrolled": true
   },
   "outputs": [
    {
     "data": {
      "text/plain": [
       "array(['\"Adding pepper to your soup or other meals DOES NOT prevent or cure COVID-19\"',\n",
       "       'How many API suppliers are there?'], dtype=object)"
      ]
     },
     "execution_count": 17,
     "metadata": {},
     "output_type": "execute_result"
    }
   ],
   "source": [
    "df_true['title'][144].values"
   ]
  },
  {
   "cell_type": "code",
   "execution_count": 18,
   "id": "020bc5b7",
   "metadata": {},
   "outputs": [],
   "source": [
    "# Usunięcie claimów, które miały pytajniki w tekście\n",
    "df_claims = df_claims[~df_claims['title'].str.contains(\"?\", regex=False)]"
   ]
  },
  {
   "cell_type": "code",
   "execution_count": 19,
   "id": "27a28547",
   "metadata": {
    "scrolled": true
   },
   "outputs": [
    {
     "data": {
      "text/plain": [
       "array(['\"There are currently no drugs licensed for the treatment or prevention of COVID-19\"',\n",
       "       '\"Adding pepper to your soup or other meals DOES NOT prevent or cure COVID-19\"',\n",
       "       '\"COVID-19 IS NOT transmitted through houseflies\"',\n",
       "       '\"Spraying and introducing bleach or another disinfectant into your body WILL NOT protect you against COVID-19 and can be dangerous\"',\n",
       "       '\"Drinking methanol, ethanol or bleach DOES NOT prevent or cure COVID-19 and can be extremely dangerous\"',\n",
       "       '\"5G mobile networks DO NOT spread COVID-19\"',\n",
       "       '\"Exposing yourself to the sun or to temperatures higher than 25C degrees DOES NOT prevent the coronavirus disease (COVID-19)\"',\n",
       "       '\"You can recover from the coronavirus disease (COVID-19). Catching the new coronavirus DOES NOT mean you will have it for life.\"',\n",
       "       '\"Being able to hold your breath for 10 seconds or more without coughing or feeling discomfort DOES NOT mean you are free from the coronavirus disease (COVID-19) or any other lung disease.\"',\n",
       "       '\"Drinking alcohol does not protect you against COVID-19 and can be dangerous\"',\n",
       "       '\"COVID-19 virus can be transmitted in areas with hot and humid climates\"',\n",
       "       '\"Cold weather and snow CANNOT kill the new coronavirus.\"',\n",
       "       '\"Taking a hot bath does not prevent the new coronavirus disease\"',\n",
       "       '\"The new coronavirus CANNOT be transmitted through mosquito bites.\"',\n",
       "       '\"Ultra-violet (UV) lamps should not be used to disinfect hands or other areas of your skin\"',\n",
       "       'People should NOT wear masks while exercising',\n",
       "       'The likelihood of shoes spreading COVID-19 is very low',\n",
       "       'The coronavirus disease (COVID-19) is caused by a virus NOT by bacteria',\n",
       "       'The prolonged use of medical masks* when properly worn DOES NOT cause CO2 intoxication nor oxygen deficiency',\n",
       "       'Most people who get COVID-19 recover from it',\n",
       "       'Drinking alcohol does not protect you against COVID-19 and can be dangerous',\n",
       "       'Thermal scanners CANNOT detect COVID-19',\n",
       "       'There are currently no drugs licensed for the treatment or prevention of COVID-19',\n",
       "       'Adding pepper to your soup or other meals DOES NOT prevent or cure COVID-19',\n",
       "       'COVID-19 is NOT transmitted through houseflies',\n",
       "       'Spraying and introducing bleach or another disinfectant into your body WILL NOT protect you against COVID-19 and can be dangerous',\n",
       "       'Drinking methanol ethanol or bleach DOES NOT prevent or cure COVID-19 and can be extremely dangerous',\n",
       "       'I heard I can be hurt by online contacts. What are my risks and how I can protect myself online.',\n",
       "       'Thermal scanners CANNOT detect COVID-19',\n",
       "       'Drinking alcohol does not protect you against COVID-19 and can be dangerous',\n",
       "       'Most people who get COVID-19 recover from it',\n",
       "       'The prolonged use of medical masks* when properly worn, DOES NOT cause CO2 intoxication nor oxygen deficiency',\n",
       "       'The coronavirus disease (COVID-19) is caused by a virus, NOT by bacteria',\n",
       "       'The likelihood of shoes spreading COVID-19 is very low',\n",
       "       'People should NOT wear masks while exercising ',\n",
       "       'Studies show hydroxychloroquine does not have clinical benefits in treating COVID-19 ',\n",
       "       'Vitamin and mineral supplements cannot cure COVID-19',\n",
       "       'Vitamin and mineral supplements cannot cure COVID-19',\n",
       "       'Checklist for parents/caregivers and community members',\n",
       "       'Checklist for students and children'], dtype=object)"
      ]
     },
     "execution_count": 19,
     "metadata": {},
     "output_type": "execute_result"
    }
   ],
   "source": [
    "# Lista stwierdzeń/tez z etykietą 'true'\n",
    "df_claims['title'][df_claims['label']=='true'].values"
   ]
  },
  {
   "cell_type": "code",
   "execution_count": 20,
   "id": "b2f5e08b",
   "metadata": {
    "scrolled": true
   },
   "outputs": [
    {
     "data": {
      "text/plain": [
       "array(['\"Spraying chlorine or alcohol on the skin kills viruses in the body\"',\n",
       "       '\"Only older adults and young people are at risk\"',\n",
       "       '\"Children cannot get COVID-19\"',\n",
       "       '\"COVID-19 is just like the flu\"', '\"Everyone with COVID-19 dies\"',\n",
       "       '\"Cats and dogs spread coronavirus\"',\n",
       "       '\"Face masks always protect against coronavirus\"',\n",
       "       '\"Hand dryers kill coronavirus\"',\n",
       "       '\"SARS-CoV-2 is just a mutated form of the common cold\"',\n",
       "       '\"You have to be with someone for 10 minutes to catch the virus\"',\n",
       "       '\"Rinsing the nose with saline protects against coronavirus\"',\n",
       "       '\"You can protect yourself by gargling bleach\"',\n",
       "       '\"Antibiotics kill coronavirus\"',\n",
       "       '\"Thermal scanners can diagnose coronavirus\"',\n",
       "       '\"Garlic protects against coronaviruses\"',\n",
       "       '\"Parcels from China can spread coronavirus\"',\n",
       "       '\"Home remedies can cure and protect against COVID-19\"',\n",
       "       '\"You can catch coronavirus from eating Chinese food in the US\"',\n",
       "       '\"You can catch coronavirus from urine and feces\"',\n",
       "       '\"The virus will die off when temperatures rise in the spring\"',\n",
       "       '\"Coronavirus is the deadliest virus known to humans\"',\n",
       "       '\"Flu and pneumonia vaccines can protect against COVID-19\"',\n",
       "       '\"The virus originated in a laboratory in China\"',\n",
       "       '\"The outbreak began because people ate bat soup\"',\n",
       "       '\"5G helps SARS-CoV-2 spread\"',\n",
       "       '\"Drinking alcohol reduces the risk of infection\"',\n",
       "       '\"Injecting or consuming bleach or disinfectant kills the virus\"',\n",
       "       'You can catch coronavirus in swimming pools'], dtype=object)"
      ]
     },
     "execution_count": 20,
     "metadata": {},
     "output_type": "execute_result"
    }
   ],
   "source": [
    "# Lista stwierdzeń/tez z etykietą 'fake'\n",
    "df_claims['title'][df_claims['label']=='fake'].values"
   ]
  },
  {
   "cell_type": "code",
   "execution_count": 21,
   "id": "3ddb4a8e",
   "metadata": {},
   "outputs": [],
   "source": [
    "# Usunięcie tekstów, które nie są stwierdzeniami na temat COVID-19\n",
    "df_claims = df_claims[~df_claims['title'].str.contains(\"Checklist for parents/caregivers and community members\")]\n",
    "df_claims = df_claims[~df_claims['title'].str.contains(\"Checklist for students and children\")]"
   ]
  },
  {
   "cell_type": "code",
   "execution_count": 22,
   "id": "5c09cac6",
   "metadata": {},
   "outputs": [
    {
     "name": "stdout",
     "output_type": "stream",
     "text": [
      "---------------------\n",
      "Liczba claim:  66\n",
      "---------------------\n"
     ]
    }
   ],
   "source": [
    "print(\"---------------------\")\n",
    "print(\"Liczba claim: \", df_claims.shape[0])\n",
    "print(\"---------------------\")"
   ]
  },
  {
   "cell_type": "code",
   "execution_count": 23,
   "id": "b91ab3f4",
   "metadata": {},
   "outputs": [
    {
     "data": {
      "text/html": [
       "<div>\n",
       "<style scoped>\n",
       "    .dataframe tbody tr th:only-of-type {\n",
       "        vertical-align: middle;\n",
       "    }\n",
       "\n",
       "    .dataframe tbody tr th {\n",
       "        vertical-align: top;\n",
       "    }\n",
       "\n",
       "    .dataframe thead th {\n",
       "        text-align: right;\n",
       "    }\n",
       "</style>\n",
       "<table border=\"1\" class=\"dataframe\">\n",
       "  <thead>\n",
       "    <tr style=\"text-align: right;\">\n",
       "      <th></th>\n",
       "      <th>target</th>\n",
       "      <th>text</th>\n",
       "    </tr>\n",
       "  </thead>\n",
       "  <tbody>\n",
       "    <tr>\n",
       "      <th>0</th>\n",
       "      <td>true</td>\n",
       "      <td>\"There are currently no drugs licensed for the...</td>\n",
       "    </tr>\n",
       "    <tr>\n",
       "      <th>1</th>\n",
       "      <td>true</td>\n",
       "      <td>\"Adding pepper to your soup or other meals DOE...</td>\n",
       "    </tr>\n",
       "    <tr>\n",
       "      <th>2</th>\n",
       "      <td>true</td>\n",
       "      <td>\"COVID-19 IS NOT transmitted through houseflies\"</td>\n",
       "    </tr>\n",
       "    <tr>\n",
       "      <th>3</th>\n",
       "      <td>true</td>\n",
       "      <td>\"Spraying and introducing bleach or another di...</td>\n",
       "    </tr>\n",
       "    <tr>\n",
       "      <th>4</th>\n",
       "      <td>true</td>\n",
       "      <td>\"Drinking methanol, ethanol or bleach DOES NOT...</td>\n",
       "    </tr>\n",
       "    <tr>\n",
       "      <th>...</th>\n",
       "      <td>...</td>\n",
       "      <td>...</td>\n",
       "    </tr>\n",
       "    <tr>\n",
       "      <th>61</th>\n",
       "      <td>fake</td>\n",
       "      <td>\"The outbreak began because people ate bat soup\"</td>\n",
       "    </tr>\n",
       "    <tr>\n",
       "      <th>62</th>\n",
       "      <td>fake</td>\n",
       "      <td>\"5G helps SARS-CoV-2 spread\"</td>\n",
       "    </tr>\n",
       "    <tr>\n",
       "      <th>63</th>\n",
       "      <td>fake</td>\n",
       "      <td>\"Drinking alcohol reduces the risk of infection\"</td>\n",
       "    </tr>\n",
       "    <tr>\n",
       "      <th>64</th>\n",
       "      <td>fake</td>\n",
       "      <td>\"Injecting or consuming bleach or disinfectant...</td>\n",
       "    </tr>\n",
       "    <tr>\n",
       "      <th>65</th>\n",
       "      <td>fake</td>\n",
       "      <td>You can catch coronavirus in swimming pools</td>\n",
       "    </tr>\n",
       "  </tbody>\n",
       "</table>\n",
       "<p>66 rows × 2 columns</p>\n",
       "</div>"
      ],
      "text/plain": [
       "   target                                               text\n",
       "0    true  \"There are currently no drugs licensed for the...\n",
       "1    true  \"Adding pepper to your soup or other meals DOE...\n",
       "2    true   \"COVID-19 IS NOT transmitted through houseflies\"\n",
       "3    true  \"Spraying and introducing bleach or another di...\n",
       "4    true  \"Drinking methanol, ethanol or bleach DOES NOT...\n",
       "..    ...                                                ...\n",
       "61   fake   \"The outbreak began because people ate bat soup\"\n",
       "62   fake                       \"5G helps SARS-CoV-2 spread\"\n",
       "63   fake   \"Drinking alcohol reduces the risk of infection\"\n",
       "64   fake  \"Injecting or consuming bleach or disinfectant...\n",
       "65   fake        You can catch coronavirus in swimming pools\n",
       "\n",
       "[66 rows x 2 columns]"
      ]
     },
     "execution_count": 23,
     "metadata": {},
     "output_type": "execute_result"
    }
   ],
   "source": [
    "# Redukcja tabeli do niezbędnych kolumn\n",
    "df_claims['text'] = df_claims['title']\n",
    "df_claims['target'] = df_claims['label']\n",
    "df_claims = df_claims[['target', 'text']]\n",
    "df_claims = df_claims.reset_index()\n",
    "df_claims.drop(['index'], axis=1, inplace=True)\n",
    "df_claims"
   ]
  },
  {
   "cell_type": "code",
   "execution_count": 24,
   "id": "d2e52e63",
   "metadata": {},
   "outputs": [],
   "source": [
    "# Możemy zliczyć sumę wystąpień poszczególnych Tokenów w każdym Dokumencie\n",
    "df_claims['text_norm'] = df_claims['text'].str.lower()\n",
    "df_claims[\"text_norm_counter\"] = df_claims[\"text_norm\"].str.split(\" \").map(lambda x: dict(Counter(x)) )\n",
    "df_claims[\"counter_tokens\"] = df_claims[\"text_norm_counter\"].map(lambda x: sum(x.values()) )"
   ]
  },
  {
   "cell_type": "code",
   "execution_count": 25,
   "id": "fa4ddf45",
   "metadata": {},
   "outputs": [
    {
     "data": {
      "text/html": [
       "<div>\n",
       "<style scoped>\n",
       "    .dataframe tbody tr th:only-of-type {\n",
       "        vertical-align: middle;\n",
       "    }\n",
       "\n",
       "    .dataframe tbody tr th {\n",
       "        vertical-align: top;\n",
       "    }\n",
       "\n",
       "    .dataframe thead th {\n",
       "        text-align: right;\n",
       "    }\n",
       "</style>\n",
       "<table border=\"1\" class=\"dataframe\">\n",
       "  <thead>\n",
       "    <tr style=\"text-align: right;\">\n",
       "      <th></th>\n",
       "      <th>target</th>\n",
       "      <th>text</th>\n",
       "      <th>text_norm</th>\n",
       "      <th>text_norm_counter</th>\n",
       "      <th>counter_tokens</th>\n",
       "    </tr>\n",
       "  </thead>\n",
       "  <tbody>\n",
       "    <tr>\n",
       "      <th>9</th>\n",
       "      <td>true</td>\n",
       "      <td>\"Drinking alcohol does not protect you against...</td>\n",
       "      <td>\"drinking alcohol does not protect you against...</td>\n",
       "      <td>{'\"drinking': 1, 'alcohol': 1, 'does': 1, 'not...</td>\n",
       "      <td>12</td>\n",
       "    </tr>\n",
       "    <tr>\n",
       "      <th>5</th>\n",
       "      <td>true</td>\n",
       "      <td>\"5G mobile networks DO NOT spread COVID-19\"</td>\n",
       "      <td>\"5g mobile networks do not spread covid-19\"</td>\n",
       "      <td>{'\"5g': 1, 'mobile': 1, 'networks': 1, 'do': 1...</td>\n",
       "      <td>7</td>\n",
       "    </tr>\n",
       "    <tr>\n",
       "      <th>43</th>\n",
       "      <td>fake</td>\n",
       "      <td>\"Cats and dogs spread coronavirus\"</td>\n",
       "      <td>\"cats and dogs spread coronavirus\"</td>\n",
       "      <td>{'\"cats': 1, 'and': 1, 'dogs': 1, 'spread': 1,...</td>\n",
       "      <td>5</td>\n",
       "    </tr>\n",
       "    <tr>\n",
       "      <th>11</th>\n",
       "      <td>true</td>\n",
       "      <td>\"Cold weather and snow CANNOT kill the new cor...</td>\n",
       "      <td>\"cold weather and snow cannot kill the new cor...</td>\n",
       "      <td>{'\"cold': 1, 'weather': 1, 'and': 1, 'snow': 1...</td>\n",
       "      <td>9</td>\n",
       "    </tr>\n",
       "    <tr>\n",
       "      <th>26</th>\n",
       "      <td>true</td>\n",
       "      <td>Drinking methanol ethanol or bleach DOES NOT p...</td>\n",
       "      <td>drinking methanol ethanol or bleach does not p...</td>\n",
       "      <td>{'drinking': 1, 'methanol': 1, 'ethanol': 1, '...</td>\n",
       "      <td>16</td>\n",
       "    </tr>\n",
       "  </tbody>\n",
       "</table>\n",
       "</div>"
      ],
      "text/plain": [
       "   target                                               text  \\\n",
       "9    true  \"Drinking alcohol does not protect you against...   \n",
       "5    true        \"5G mobile networks DO NOT spread COVID-19\"   \n",
       "43   fake                 \"Cats and dogs spread coronavirus\"   \n",
       "11   true  \"Cold weather and snow CANNOT kill the new cor...   \n",
       "26   true  Drinking methanol ethanol or bleach DOES NOT p...   \n",
       "\n",
       "                                            text_norm  \\\n",
       "9   \"drinking alcohol does not protect you against...   \n",
       "5         \"5g mobile networks do not spread covid-19\"   \n",
       "43                 \"cats and dogs spread coronavirus\"   \n",
       "11  \"cold weather and snow cannot kill the new cor...   \n",
       "26  drinking methanol ethanol or bleach does not p...   \n",
       "\n",
       "                                    text_norm_counter  counter_tokens  \n",
       "9   {'\"drinking': 1, 'alcohol': 1, 'does': 1, 'not...              12  \n",
       "5   {'\"5g': 1, 'mobile': 1, 'networks': 1, 'do': 1...               7  \n",
       "43  {'\"cats': 1, 'and': 1, 'dogs': 1, 'spread': 1,...               5  \n",
       "11  {'\"cold': 1, 'weather': 1, 'and': 1, 'snow': 1...               9  \n",
       "26  {'drinking': 1, 'methanol': 1, 'ethanol': 1, '...              16  "
      ]
     },
     "execution_count": 25,
     "metadata": {},
     "output_type": "execute_result"
    }
   ],
   "source": [
    "df_claims.sample(5)"
   ]
  },
  {
   "cell_type": "code",
   "execution_count": 26,
   "id": "866b0af2",
   "metadata": {},
   "outputs": [],
   "source": [
    "df_claims.to_csv('../coaid_claims.csv', encoding='utf-8', index=False)\n",
    "df_claims.to_excel('../coaid_claims.xlsx')"
   ]
  }
 ],
 "metadata": {
  "kernelspec": {
   "display_name": "Python 3 (ipykernel)",
   "language": "python",
   "name": "python3"
  },
  "language_info": {
   "codemirror_mode": {
    "name": "ipython",
    "version": 3
   },
   "file_extension": ".py",
   "mimetype": "text/x-python",
   "name": "python",
   "nbconvert_exporter": "python",
   "pygments_lexer": "ipython3",
   "version": "3.9.5"
  }
 },
 "nbformat": 4,
 "nbformat_minor": 5
}
